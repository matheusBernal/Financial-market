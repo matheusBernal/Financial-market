{
 "cells": [
  {
   "cell_type": "code",
   "execution_count": null,
   "id": "5710ebb8",
   "metadata": {},
   "outputs": [],
   "source": [
    "from selenium import webdriver;\n",
    "from selenium.webdriver.common.by import By;\n",
    "import json\n",
    "import pandas as pd;\n",
    "import numpy as np;"
   ]
  },
  {
   "cell_type": "code",
   "execution_count": null,
   "id": "b14eb57b",
   "metadata": {},
   "outputs": [
    {
     "name": "stderr",
     "output_type": "stream",
     "text": [
      "C:\\Users\\mbern\\AppData\\Local\\Temp\\ipykernel_12920\\1424658140.py:7: DeprecationWarning: Selenium Tools for Microsoft Edge is deprecated. Please upgrade to Selenium 4 which has built-in support for Microsoft Edge (Chromium): https://docs.microsoft.com/en-us/microsoft-edge/webdriver-chromium/#upgrading-from-selenium-3\n",
      "  driver = Edge(executable_path=driver_path, options=edge_options);\n"
     ]
    },
    {
     "ename": "WebDriverException",
     "evalue": "Message: Service path cannot be None.\n",
     "output_type": "error",
     "traceback": [
      "\u001b[31m---------------------------------------------------------------------------\u001b[39m",
      "\u001b[31mWebDriverException\u001b[39m                        Traceback (most recent call last)",
      "\u001b[36mCell\u001b[39m\u001b[36m \u001b[39m\u001b[32mIn[60]\u001b[39m\u001b[32m, line 7\u001b[39m\n\u001b[32m      5\u001b[39m \u001b[38;5;66;03m# Provide the path to the Edge WebDriver executable\u001b[39;00m\n\u001b[32m      6\u001b[39m driver_path = \u001b[33mr\u001b[39m\u001b[33m\"\u001b[39m\u001b[33mC:\u001b[39m\u001b[33m\\\u001b[39m\u001b[33mpath\u001b[39m\u001b[33m\\\u001b[39m\u001b[33mto\u001b[39m\u001b[33m\\\u001b[39m\u001b[33mmsedgedriver.exe\u001b[39m\u001b[33m\"\u001b[39m  \u001b[38;5;66;03m# Replace with the actual path to your Edge WebDriver\u001b[39;00m\n\u001b[32m----> \u001b[39m\u001b[32m7\u001b[39m driver = \u001b[43mEdge\u001b[49m\u001b[43m(\u001b[49m\u001b[43mexecutable_path\u001b[49m\u001b[43m=\u001b[49m\u001b[43mdriver_path\u001b[49m\u001b[43m,\u001b[49m\u001b[43m \u001b[49m\u001b[43moptions\u001b[49m\u001b[43m=\u001b[49m\u001b[43medge_options\u001b[49m\u001b[43m)\u001b[49m;\n\u001b[32m      8\u001b[39m driver.get(\u001b[33m'\u001b[39m\u001b[33mhttps://www.investidor.b3.com.br/login\u001b[39m\u001b[33m'\u001b[39m);\n\u001b[32m      9\u001b[39m driver.implicitly_wait(\u001b[32m7\u001b[39m)\n",
      "\u001b[36mFile \u001b[39m\u001b[32mc:\\Users\\mbern\\OneDrive\\Projects\\Financial-market\\.venv\\Lib\\site-packages\\msedge\\selenium_tools\\webdriver.py:104\u001b[39m, in \u001b[36mWebDriver.__init__\u001b[39m\u001b[34m(self, executable_path, capabilities, port, verbose, service_log_path, log_path, keep_alive, desired_capabilities, service_args, options)\u001b[39m\n\u001b[32m     96\u001b[39m \u001b[38;5;28mself\u001b[39m.port = port\n\u001b[32m     98\u001b[39m \u001b[38;5;28mself\u001b[39m.service = Service(\n\u001b[32m     99\u001b[39m         executable_path,\n\u001b[32m    100\u001b[39m         port=\u001b[38;5;28mself\u001b[39m.port,\n\u001b[32m    101\u001b[39m         verbose=verbose,\n\u001b[32m    102\u001b[39m         service_args=service_args,\n\u001b[32m    103\u001b[39m         log_path=service_log_path)\n\u001b[32m--> \u001b[39m\u001b[32m104\u001b[39m \u001b[38;5;28;43mself\u001b[39;49m\u001b[43m.\u001b[49m\u001b[43mservice\u001b[49m\u001b[43m.\u001b[49m\u001b[43mstart\u001b[49m\u001b[43m(\u001b[49m\u001b[43m)\u001b[49m\n\u001b[32m    106\u001b[39m \u001b[38;5;28;01mtry\u001b[39;00m:\n\u001b[32m    107\u001b[39m     RemoteWebDriver.\u001b[34m__init__\u001b[39m(\n\u001b[32m    108\u001b[39m         \u001b[38;5;28mself\u001b[39m,\n\u001b[32m    109\u001b[39m         command_executor = EdgeRemoteConnection(\n\u001b[32m    110\u001b[39m         remote_server_addr=\u001b[38;5;28mself\u001b[39m.service.service_url,\n\u001b[32m    111\u001b[39m         keep_alive=keep_alive),\n\u001b[32m    112\u001b[39m         desired_capabilities=desired_capabilities)\n",
      "\u001b[36mFile \u001b[39m\u001b[32mc:\\Users\\mbern\\OneDrive\\Projects\\Financial-market\\.venv\\Lib\\site-packages\\selenium\\webdriver\\common\\service.py:108\u001b[39m, in \u001b[36mstart\u001b[39m\u001b[34m(self)\u001b[39m\n\u001b[32m    106\u001b[39m \u001b[38;5;28;01mdef\u001b[39;00m\u001b[38;5;250m \u001b[39m\u001b[34massert_process_still_running\u001b[39m(\u001b[38;5;28mself\u001b[39m):\n\u001b[32m    107\u001b[39m     return_code = \u001b[38;5;28mself\u001b[39m.process.poll()\n\u001b[32m--> \u001b[39m\u001b[32m108\u001b[39m     \u001b[38;5;28;01mif\u001b[39;00m return_code \u001b[38;5;129;01mis\u001b[39;00m \u001b[38;5;129;01mnot\u001b[39;00m \u001b[38;5;28;01mNone\u001b[39;00m:\n\u001b[32m    109\u001b[39m         \u001b[38;5;28;01mraise\u001b[39;00m WebDriverException(\n\u001b[32m    110\u001b[39m             \u001b[33m'\u001b[39m\u001b[33mService \u001b[39m\u001b[38;5;132;01m%s\u001b[39;00m\u001b[33m unexpectedly exited. Status code was: \u001b[39m\u001b[38;5;132;01m%s\u001b[39;00m\u001b[33m'\u001b[39m\n\u001b[32m    111\u001b[39m             % (\u001b[38;5;28mself\u001b[39m.path, return_code)\n\u001b[32m    112\u001b[39m         )\n",
      "\u001b[31mWebDriverException\u001b[39m: Message: Service path cannot be None.\n"
     ]
    }
   ],
   "source": [
    "driver = webdriver.Edge();\n",
    "driver.get('https://www.investidor.b3.com.br/login');\n",
    "driver.implicitly_wait(7)\n",
    "\n",
    "element = driver.find_element(by=By.ID, value='investidor');\n",
    "element.send_keys('');\n",
    "\n",
    "enter = driver.find_element(by=By.CLASS_NAME,value=\"b3-use-button__conteudo\");\n",
    "enter.click();\n",
    "\n",
    "password = driver.find_element(by=By.ID,value='PASS_INPUT');\n",
    "password.send_keys('');\n",
    "driver.implicitly_wait(7);\n"
   ]
  }
 ],
 "metadata": {
  "kernelspec": {
   "display_name": ".venv",
   "language": "python",
   "name": "python3"
  },
  "language_info": {
   "codemirror_mode": {
    "name": "ipython",
    "version": 3
   },
   "file_extension": ".py",
   "mimetype": "text/x-python",
   "name": "python",
   "nbconvert_exporter": "python",
   "pygments_lexer": "ipython3",
   "version": "3.12.10"
  }
 },
 "nbformat": 4,
 "nbformat_minor": 5
}
